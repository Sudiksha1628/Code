{
 "cells": [
  {
   "cell_type": "code",
   "execution_count": 1,
   "id": "16d8cd09-4ade-410c-abea-8b72185da874",
   "metadata": {},
   "outputs": [],
   "source": [
    "import tensorflow as tf\n",
    "from tensorflow.keras import layers, models, optimizers\n",
    "from tensorflow.keras.applications import VGG16\n",
    "from tensorflow.keras.datasets import cifar10\n",
    "from tensorflow.keras.utils import to_categorical\n",
    "from tensorflow.keras.callbacks import EarlyStopping, ReduceLROnPlateau"
   ]
  },
  {
   "cell_type": "code",
   "execution_count": 2,
   "id": "5156ca7e-d40f-42ed-926a-4d10c9cb34c8",
   "metadata": {},
   "outputs": [],
   "source": [
    "# Load and preprocess CIFAR-10 data\n",
    "(x_train, y_train), (x_test, y_test) = cifar10.load_data()"
   ]
  },
  {
   "cell_type": "code",
   "execution_count": 3,
   "id": "fde7142a-75a2-4b1e-a8f5-c8afebf05c0a",
   "metadata": {},
   "outputs": [],
   "source": [
    "# One-hot encode the labels\n",
    "y_train = to_categorical(y_train, 10)\n",
    "y_test = to_categorical(y_test, 10)"
   ]
  },
  {
   "cell_type": "code",
   "execution_count": 4,
   "id": "350b5c8d-2dfb-41ae-bcdd-a0523c1b6406",
   "metadata": {},
   "outputs": [],
   "source": [
    "# Preprocess images (resize and normalize)\n",
    "def preprocess_images(images, labels):\n",
    "    images = tf.image.resize(images, (224, 224)) / 255.0  # Resize to 224x224 and normalize\n",
    "    return images, labels\n"
   ]
  },
  {
   "cell_type": "code",
   "execution_count": 5,
   "id": "702a8ee8-a1a5-4679-a456-acc7deaf9959",
   "metadata": {},
   "outputs": [],
   "source": [
    "batch_size = 32\n",
    "train_ds = tf.data.Dataset.from_tensor_slices((x_train, y_train))\n",
    "train_ds = train_ds.map(preprocess_images).batch(batch_size).prefetch(tf.data.AUTOTUNE)"
   ]
  },
  {
   "cell_type": "code",
   "execution_count": 6,
   "id": "2efd1dcc-1697-46b3-a9ad-f60689e88d31",
   "metadata": {},
   "outputs": [],
   "source": [
    "test_ds = tf.data.Dataset.from_tensor_slices((x_test, y_test))\n",
    "test_ds = test_ds.map(preprocess_images).batch(batch_size).prefetch(tf.data.AUTOTUNE)"
   ]
  },
  {
   "cell_type": "code",
   "execution_count": 7,
   "id": "a7ae3e39-b38b-435d-862d-4c6d7caff430",
   "metadata": {},
   "outputs": [],
   "source": [
    "# Load the VGG16 model without the top layer\n",
    "vgg_base = VGG16(weights='imagenet', include_top=False, input_shape=(224, 224, 3))\n",
    "vgg_base.trainable = False  # Freeze the base layers initially"
   ]
  },
  {
   "cell_type": "code",
   "execution_count": 8,
   "id": "a2b0fd1f-f716-4bca-b996-5561ff582660",
   "metadata": {},
   "outputs": [],
   "source": [
    "# Add a custom classification head\n",
    "model = models.Sequential([\n",
    "    vgg_base,\n",
    "    layers.Flatten(),\n",
    "    layers.Dense(256, activation='relu'),\n",
    "    layers.Dropout(0.5),\n",
    "    layers.Dense(10, activation='softmax')  # CIFAR-10 has 10 classes\n",
    "])\n"
   ]
  },
  {
   "cell_type": "code",
   "execution_count": 9,
   "id": "78eb2201-d082-43c5-87d8-1775b16fee59",
   "metadata": {},
   "outputs": [],
   "source": [
    "# Compile the model with initial hyperparameters\n",
    "learning_rate = 0.001\n",
    "model.compile(optimizer=optimizers.Adam(learning_rate=learning_rate),\n",
    "              loss='categorical_crossentropy',\n",
    "              metrics=['accuracy'])\n"
   ]
  },
  {
   "cell_type": "code",
   "execution_count": 10,
   "id": "918a1701-5ecd-47c8-8e81-b3d87d735af9",
   "metadata": {},
   "outputs": [],
   "source": [
    "# Define callbacks for early stopping and learning rate reduction\n",
    "early_stopping = EarlyStopping(monitor='val_loss', patience=5, restore_best_weights=True)\n",
    "reduce_lr = ReduceLROnPlateau(monitor='val_loss', factor=0.5, patience=3, min_lr=1e-6)"
   ]
  },
  {
   "cell_type": "code",
   "execution_count": 11,
   "id": "498f502b-02a9-468e-9aeb-153ab1ad7dab",
   "metadata": {},
   "outputs": [
    {
     "name": "stdout",
     "output_type": "stream",
     "text": [
      "\u001b[1m1563/1563\u001b[0m \u001b[32m━━━━━━━━━━━━━━━━━━━━\u001b[0m\u001b[37m\u001b[0m \u001b[1m2232s\u001b[0m 1s/step - accuracy: 0.2449 - loss: 2.0856 - val_accuracy: 0.4502 - val_loss: 1.5522 - learning_rate: 0.0010\n"
     ]
    }
   ],
   "source": [
    "# Train the model\n",
    "history = model.fit(train_ds, \n",
    "                    epochs=1, \n",
    "                    validation_data=test_ds, \n",
    "                    callbacks=[early_stopping, reduce_lr])"
   ]
  },
  {
   "cell_type": "code",
   "execution_count": 12,
   "id": "554dbf27-e487-4913-9c8d-d58b8e9b8b4f",
   "metadata": {},
   "outputs": [],
   "source": [
    "# Unfreeze some layers for fine-tuning\n",
    "vgg_base.trainable = True  # Unfreeze the entire base model"
   ]
  },
  {
   "cell_type": "code",
   "execution_count": 13,
   "id": "32878cb1-2efa-4eb0-b34a-b767873eab6a",
   "metadata": {},
   "outputs": [],
   "source": [
    "# Recompile with a smaller learning rate for fine-tuning\n",
    "model.compile(optimizer=optimizers.Adam(learning_rate=0.0001),\n",
    "              loss='categorical_crossentropy',\n",
    "              metrics=['accuracy'])"
   ]
  },
  {
   "cell_type": "code",
   "execution_count": null,
   "id": "f8f6dd4c-9ced-4171-819d-a7f603ccace2",
   "metadata": {},
   "outputs": [
    {
     "name": "stdout",
     "output_type": "stream",
     "text": [
      "\u001b[1m 340/1563\u001b[0m \u001b[32m━━━━\u001b[0m\u001b[37m━━━━━━━━━━━━━━━━\u001b[0m \u001b[1m5:45:36\u001b[0m 17s/step - accuracy: 0.1141 - loss: 2.3375"
     ]
    }
   ],
   "source": [
    "# Fine-tune the model\n",
    "history_fine_tune = model.fit(train_ds, \n",
    "                              epochs=1, \n",
    "                              validation_data=test_ds, \n",
    "                              callbacks=[early_stopping, reduce_lr])"
   ]
  },
  {
   "cell_type": "code",
   "execution_count": null,
   "id": "c47a0cb2-6b23-4121-aa4d-01d4035ba49a",
   "metadata": {},
   "outputs": [],
   "source": [
    "# Evaluate the model\n",
    "test_loss, test_acc = model.evaluate(test_ds)\n",
    "print(f\"Final Test Accuracy: {test_acc:.2f}\")"
   ]
  }
 ],
 "metadata": {
  "kernelspec": {
   "display_name": "Python 3 (ipykernel)",
   "language": "python",
   "name": "python3"
  },
  "language_info": {
   "codemirror_mode": {
    "name": "ipython",
    "version": 3
   },
   "file_extension": ".py",
   "mimetype": "text/x-python",
   "name": "python",
   "nbconvert_exporter": "python",
   "pygments_lexer": "ipython3",
   "version": "3.12.4"
  }
 },
 "nbformat": 4,
 "nbformat_minor": 5
}
